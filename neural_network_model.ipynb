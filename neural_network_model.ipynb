{
 "cells": [
  {
   "cell_type": "code",
   "execution_count": 7,
   "id": "fb0f8a92",
   "metadata": {},
   "outputs": [],
   "source": [
    "import pandas as pd\n",
    "from sklearn.model_selection import train_test_split\n",
    "import keras\n",
    "from keras.models import Sequential\n",
    "from keras.layers import Dense, Dropout\n",
    "from sklearn.metrics import confusion_matrix, accuracy_score\n",
    "from sklearn.metrics import classification_report, confusion_matrix\n",
    "import seaborn as sns; sns.set()"
   ]
  },
  {
   "cell_type": "code",
   "execution_count": 8,
   "id": "ac0c4ce9",
   "metadata": {},
   "outputs": [],
   "source": [
    "class LoggingCallback(keras.callbacks.Callback):\n",
    "    \"\"\"Callback that logs message at end of epoch.\n",
    "    \"\"\"\n",
    "\n",
    "\n",
    "    def __init__(self, parExpDir):\n",
    "       \n",
    "        self.exp_dir = parExpDir\n",
    "\n",
    "\n",
    "    def on_epoch_end(self, epoch, logs=None):\n",
    "\n",
    "        \n",
    "        file_path = self.exp_dir+\"/neural_network_output.txt\"\n",
    "\n",
    "        f = open(file_path, \"a\")\n",
    "        msg = \"{Epoch: %i} %s\" % (epoch, \", \".join(\"%s: %f\" % (k, v) for k, v in logs.items()))\n",
    "        f.write(msg+\"\\n\")\n",
    "        f.close()"
   ]
  },
  {
   "cell_type": "code",
   "execution_count": 9,
   "id": "94a908a5",
   "metadata": {},
   "outputs": [
    {
     "name": "stderr",
     "output_type": "stream",
     "text": [
      "C:\\Users\\visitante\\anaconda3\\envs\\sofsegproj\\lib\\site-packages\\keras\\optimizers\\optimizer_v2\\adam.py:114: UserWarning: The `lr` argument is deprecated, use `learning_rate` instead.\n",
      "  super().__init__(name, **kwargs)\n"
     ]
    },
    {
     "name": "stdout",
     "output_type": "stream",
     "text": [
      "treinando...\n",
      "139/139 [==============================] - 0s 2ms/step\n",
      "[[3029  283]\n",
      " [ 376  744]]\n"
     ]
    }
   ],
   "source": [
    "\n",
    "#previsores = pd.read_csv('entradas_breast.csv')\n",
    "#classe = pd.read_csv('saidas_breast.csv')\n",
    "\n",
    "previsores_treinamento = pd.read_csv('../SQ-false-positive-filering-ML/input/x_train.csv')\n",
    "classe_treinamento = pd.read_csv('../SQ-false-positive-filering-ML/input/y_train.csv')\n",
    "\n",
    "previsores_teste = pd.read_csv('../SQ-false-positive-filering-ML/input/x_test.csv')\n",
    "\n",
    "classe_teste = pd.read_csv('../SQ-false-positive-filering-ML/input/y_test.csv')\n",
    "\n",
    "classificador = Sequential()\n",
    "classificador.add(Dense(units = 800, activation = 'relu', \n",
    "                        kernel_initializer = 'random_uniform', input_dim = 480))\n",
    "classificador.add(Dropout(0.2))\n",
    "\n",
    "classificador.add(Dense(units = 800, activation = 'relu', \n",
    "                        kernel_initializer = 'random_uniform'))\n",
    "classificador.add(Dropout(0.2))\n",
    "\n",
    "classificador.add(Dense(units = 800, activation = 'relu', \n",
    "                        kernel_initializer = 'random_uniform'))\n",
    "\n",
    "classificador.add(Dense(units = 1, activation = 'sigmoid'))\n",
    "\n",
    "otimizador = keras.optimizers.Adam(lr = 0.0001, decay = 0.0001, clipvalue = 0.5)\n",
    "classificador.compile(optimizer = otimizador, loss = 'binary_crossentropy',\n",
    "                      metrics = ['binary_accuracy'])\n",
    "\n",
    "#classificador.compile(optimizer = 'adam', loss = 'binary_crossentropy',\n",
    "#                      metrics = ['binary_accuracy'])\n",
    "print(\"treinando...\")\n",
    "#classificador.fit(previsores_treinamento, classe_treinamento,batch_size = 512, epochs = 100,verbose=0,callbacks=[LoggingCallback(parExpDir=\".\")])\n",
    "\n",
    "classificador.fit(previsores_treinamento, classe_treinamento,batch_size = 512, epochs = 100,\n",
    "                  verbose=0)\n",
    "\n",
    "previsoes = classificador.predict(previsores_teste)\n",
    "previsoes = (previsoes > 0.5)\n",
    "precisao = accuracy_score(classe_teste, previsoes)\n",
    "matriz = confusion_matrix(classe_teste, previsoes)\n",
    "print(matriz)\n",
    "\n",
    "#resultado = classificador.evaluate(previsores_teste, classe_teste)\n"
   ]
  },
  {
   "cell_type": "code",
   "execution_count": 10,
   "id": "86a2ab08",
   "metadata": {},
   "outputs": [
    {
     "data": {
      "image/png": "[encoded data removed]",
      "text/plain": [
       "<Figure size 640x480 with 2 Axes>"
      ]
     },
     "metadata": {},
     "output_type": "display_data"
    }
   ],
   "source": [
    "#to_heat_map =[[tn,fp],[fn,tp]]\n",
    "to_heat_map =[[matriz[0,0],matriz[0,1]],[matriz[1,0],matriz[1,1]]]\n",
    "to_heat_map = pd.DataFrame(to_heat_map, index = [\"Vulner\",\"Normal\"],columns = [\"Vulner\",\"Normal\"])\n",
    "ax = sns.heatmap(to_heat_map,annot=True, fmt=\"d\")"
   ]
  },
  {
   "cell_type": "code",
   "execution_count": null,
   "id": "e98dd9bb",
   "metadata": {},
   "outputs": [],
   "source": []
  }
 ],
 "metadata": {
  "kernelspec": {
   "display_name": "Python 3 (ipykernel)",
   "language": "python",
   "name": "python3"
  },
  "language_info": {
   "codemirror_mode": {
    "name": "ipython",
    "version": 3
   },
   "file_extension": ".py",
   "mimetype": "text/x-python",
   "name": "python",
   "nbconvert_exporter": "python",
   "pygments_lexer": "ipython3",
   "version": "3.10.11"
  }
 },
 "nbformat": 4,
 "nbformat_minor": 5
}
