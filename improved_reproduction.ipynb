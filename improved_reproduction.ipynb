{
 "cells": [
  {
   "cell_type": "code",
   "execution_count": 3,
   "id": "804e00ae-8a26-4e47-bbc5-35f51d65be92",
   "metadata": {
    "execution": {
     "iopub.execute_input": "2023-05-30T22:21:03.810204Z",
     "iopub.status.busy": "2023-05-30T22:21:03.810204Z",
     "iopub.status.idle": "2023-05-30T22:21:05.818542Z",
     "shell.execute_reply": "2023-05-30T22:21:05.818542Z",
     "shell.execute_reply.started": "2023-05-30T22:21:03.810204Z"
    },
    "tags": []
   },
   "outputs": [],
   "source": [
    "import pandas as pd\n",
    "import matplotlib.pyplot as plt\n",
    "import numpy as np\n",
    "\n",
    "from gensim.models import Word2Vec\n",
    "from sklearn.ensemble import RandomForestClassifier\n",
    "from sklearn.metrics import classification_report, confusion_matrix\n",
    "from sklearn.model_selection import train_test_split\n",
    "from sklearn.utils import resample\n",
    "#plot_confusion_matrix deprecated"
   ]
  },
  {
   "cell_type": "code",
   "execution_count": 4,
   "id": "d7e46ae6-28f4-474d-b40f-6ffda52d822f",
   "metadata": {
    "execution": {
     "iopub.execute_input": "2023-05-30T22:21:05.821543Z",
     "iopub.status.busy": "2023-05-30T22:21:05.820541Z",
     "iopub.status.idle": "2023-05-30T22:21:05.835544Z",
     "shell.execute_reply": "2023-05-30T22:21:05.834616Z",
     "shell.execute_reply.started": "2023-05-30T22:21:05.821543Z"
    },
    "tags": []
   },
   "outputs": [],
   "source": [
    "# Se resultado atual ficar muito inferior, \n",
    "# Falta grid search no tamanho dos embeddigns\n",
    "    # Falta hyperopt dos parametros do random forest"
   ]
  },
  {
   "cell_type": "code",
   "execution_count": 5,
   "id": "70a8babf-4791-4c45-bb5f-a01ea78d2af7",
   "metadata": {
    "execution": {
     "iopub.execute_input": "2023-05-30T22:21:05.836542Z",
     "iopub.status.busy": "2023-05-30T22:21:05.836542Z",
     "iopub.status.idle": "2023-05-30T22:21:05.850542Z",
     "shell.execute_reply": "2023-05-30T22:21:05.849542Z",
     "shell.execute_reply.started": "2023-05-30T22:21:05.836542Z"
    },
    "tags": []
   },
   "outputs": [],
   "source": [
    "#embedding_model = Word2Vec.load('gensim/f2086855_mc1_W5_S64_samp0_a0.03_mina0.0007_n20_seed42_epoch5.model')\n",
    "embedding_model = Word2Vec.load('gensim/word2vec.model')\n",
    "def get_line_embedding(line):\n",
    "    if line == '' or line == None:\n",
    "        return np.zeros((1,64))\n",
    "    try:\n",
    "        avg_line_vector = np.zeros((1,64))\n",
    "        tokens = line.split(' ')\n",
    "        for token in tokens:\n",
    "            avg_line_vector = avg_line_vector + embedding_model.wv[token]\n",
    "    except Exception as e:\n",
    "        print(line)\n",
    "        print(e)\n",
    "    return avg_line_vector / len(tokens)\n",
    "\n",
    "def get_vocab_average():\n",
    "    vectors = embedding_model.wv.vectors\n",
    "    column_sums = np.sum(vectors, axis=0)\n",
    "    column_sums = column_sums / vectors.shape[0]\n",
    "    return column_sums * 0.01\n",
    "\n",
    "vocab_average = get_vocab_average()\n",
    "def add_perturbation(sample):\n",
    "    for line in ['m2', 'm1', '0', '1', '2']:\n",
    "        sample['vector_{}'.format(line)] += vocab_average\n",
    "    return sample"
   ]
  },
  {
   "cell_type": "code",
   "execution_count": 6,
   "id": "cfde7980-49f9-41be-a20b-f2293fb872e3",
   "metadata": {
    "execution": {
     "iopub.execute_input": "2023-05-30T22:21:05.852542Z",
     "iopub.status.busy": "2023-05-30T22:21:05.851543Z",
     "iopub.status.idle": "2023-05-30T22:21:05.866543Z",
     "shell.execute_reply": "2023-05-30T22:21:05.865544Z",
     "shell.execute_reply.started": "2023-05-30T22:21:05.852542Z"
    },
    "tags": []
   },
   "outputs": [],
   "source": [
    "# Apply only to the train dataset, test must be kept with real world proportion\n",
    "# Upsampling procedure\n",
    "# 1. upsampling from each SonarQube type until we achieved even distribution of true and false positives within that warning type\n",
    "# 2. upsampling by adding some noise to randomly selected instances from the minority class\n",
    "# 3. upsampling true positives\n",
    "# 4. for each randomly selected instance from a particular warning type the 1% of the vocabulary average has been added.\n",
    "def upsample_by_squid(df):\n",
    "    squids = df['squid'].unique()\n",
    "    for squid in squids:\n",
    "        try:\n",
    "            true_issues = df[(df['squid'] == squid)&(df['cls'] == 0)].shape[0]\n",
    "            false_issues = df[(df['squid'] == squid)&(df['cls'] == 1)].shape[0]\n",
    "            upsample = abs(true_issues - false_issues)\n",
    "            if false_issues > true_issues:\n",
    "                minority_samples = resample(df[(df['squid'] == squid)&(df['cls'] == 0)], n_samples = upsample)\n",
    "            elif false_issues < true_issues:\n",
    "                minority_samples = resample(df[(df['squid'] == squid)&(df['cls'] == 1)], n_samples = upsample)\n",
    "            else:\n",
    "                continue\n",
    "            minority_samples = minority_samples.apply(add_perturbation, axis=1)\n",
    "            df = pd.concat([df, minority_samples], axis=0)\n",
    "        except:\n",
    "            print(true_issues, false_issues, upsample)\n",
    "    return df"
   ]
  },
  {
   "cell_type": "code",
   "execution_count": 7,
   "id": "be3b57ef-4ac5-4e71-a717-d23527355626",
   "metadata": {
    "execution": {
     "iopub.execute_input": "2023-05-30T22:21:05.867543Z",
     "iopub.status.busy": "2023-05-30T22:21:05.867543Z",
     "iopub.status.idle": "2023-05-30T22:21:05.881542Z",
     "shell.execute_reply": "2023-05-30T22:21:05.880544Z",
     "shell.execute_reply.started": "2023-05-30T22:21:05.867543Z"
    },
    "tags": []
   },
   "outputs": [],
   "source": [
    "# Data loading"
   ]
  },
  {
   "cell_type": "code",
   "execution_count": 8,
   "id": "2d453733-51da-449b-bc6a-c6c057268f63",
   "metadata": {
    "execution": {
     "iopub.execute_input": "2023-05-30T22:21:05.882545Z",
     "iopub.status.busy": "2023-05-30T22:21:05.882545Z",
     "iopub.status.idle": "2023-05-30T22:21:07.149811Z",
     "shell.execute_reply": "2023-05-30T22:21:07.148810Z",
     "shell.execute_reply.started": "2023-05-30T22:21:05.882545Z"
    },
    "tags": []
   },
   "outputs": [],
   "source": [
    "full_dataset = pd.read_csv('main_dataset.csv')\n",
    "full_dataset['token_line_m2'].fillna('', inplace=True)\n",
    "full_dataset['token_line_m1'].fillna('', inplace=True)\n",
    "full_dataset['token_line_0'].fillna('', inplace=True)\n",
    "full_dataset['token_line_1'].fillna('', inplace=True)\n",
    "full_dataset['token_line_2'].fillna('', inplace=True)"
   ]
  },
  {
   "cell_type": "code",
   "execution_count": 9,
   "id": "c1a4e820-7c8b-48b5-b562-af208965ee2f",
   "metadata": {
    "execution": {
     "iopub.execute_input": "2023-05-30T22:21:07.150810Z",
     "iopub.status.busy": "2023-05-30T22:21:07.150810Z",
     "iopub.status.idle": "2023-05-30T22:21:39.521819Z",
     "shell.execute_reply": "2023-05-30T22:21:39.521819Z",
     "shell.execute_reply.started": "2023-05-30T22:21:07.150810Z"
    },
    "tags": []
   },
   "outputs": [],
   "source": [
    "# Add vectors for each line in the context\n",
    "for line in ['m2', 'm1', '0', '1', '2']:\n",
    "    full_dataset['vector_{}'.format(line)] = full_dataset['token_line_{}'.format(line)].apply(get_line_embedding)"
   ]
  },
  {
   "cell_type": "code",
   "execution_count": 10,
   "id": "07f29f38-6d4f-4f9e-9a6a-985a2d924f87",
   "metadata": {
    "execution": {
     "iopub.execute_input": "2023-05-30T22:21:39.523813Z",
     "iopub.status.busy": "2023-05-30T22:21:39.523813Z",
     "iopub.status.idle": "2023-05-30T22:21:39.681400Z",
     "shell.execute_reply": "2023-05-30T22:21:39.680395Z",
     "shell.execute_reply.started": "2023-05-30T22:21:39.523813Z"
    },
    "tags": []
   },
   "outputs": [],
   "source": [
    "# Create one hot encoding for column squid\n",
    "full_dataset = pd.concat([full_dataset, one_hot_encoded], axis=1)"
   ]
  },
  {
   "cell_type": "code",
   "execution_count": 11,
   "id": "da48843a-ac9d-4a10-a9f7-b5d776a85dfb",
   "metadata": {
    "execution": {
     "iopub.execute_input": "2023-05-30T22:21:39.683388Z",
     "iopub.status.busy": "2023-05-30T22:21:39.683388Z",
     "iopub.status.idle": "2023-05-30T22:21:39.697394Z",
     "shell.execute_reply": "2023-05-30T22:21:39.696391Z",
     "shell.execute_reply.started": "2023-05-30T22:21:39.683388Z"
    },
    "tags": []
   },
   "outputs": [],
   "source": [
    "# full_dataset['tokens'] = full_dataset['token_line_m2'].fillna('') + ' ' +  full_dataset['token_line_m1'].fillna('') +  ' ' +  full_dataset['token_line_0'].fillna('') +  ' ' +  full_dataset['token_line_1'].fillna('')  +  ' ' +  full_dataset['token_line_2'].fillna('')\n",
    "# tokens = full_dataset['tokens'].tolist()\n",
    "# tokens = [ x.split(' ') for x in tokens] \n",
    "# tokens = [ list(set(x)) for x in tokens ] \n",
    "# tokens = [item for sublist in tokens for item in sublist]\n",
    "# tokens = [ x for x in tokens if len(x) > 0 ] \n",
    "# tokens = list(set(tokens))\n",
    "# tokens.sort()\n",
    "# tokens"
   ]
  },
  {
   "cell_type": "code",
   "execution_count": 16,
   "id": "a4814b02-33a6-4c0a-afac-c3029c253493",
   "metadata": {
    "execution": {
     "iopub.execute_input": "2023-05-30T22:28:34.100627Z",
     "iopub.status.busy": "2023-05-30T22:28:34.099629Z",
     "iopub.status.idle": "2023-05-30T22:28:34.391620Z",
     "shell.execute_reply": "2023-05-30T22:28:34.390627Z",
     "shell.execute_reply.started": "2023-05-30T22:28:34.100627Z"
    },
    "tags": []
   },
   "outputs": [],
   "source": [
    "# 80-10-10% ratio for training, hyper-parameter optimization, and testing\n",
    "X_train, X_test, Y_train, Y_test = train_test_split(full_dataset, full_dataset['cls'], test_size=0.10, stratify=full_dataset['squid'])"
   ]
  },
  {
   "cell_type": "code",
   "execution_count": 17,
   "id": "0bb74373-7988-46b2-8e3a-ce0d4a2db0f5",
   "metadata": {
    "execution": {
     "iopub.execute_input": "2023-05-30T22:28:36.618168Z",
     "iopub.status.busy": "2023-05-30T22:28:36.617170Z",
     "iopub.status.idle": "2023-05-30T22:29:17.987946Z",
     "shell.execute_reply": "2023-05-30T22:29:17.987946Z",
     "shell.execute_reply.started": "2023-05-30T22:28:36.618168Z"
    },
    "tags": []
   },
   "outputs": [
    {
     "name": "stdout",
     "output_type": "stream",
     "text": [
      "squid_S2208\n",
      "squid_S1192\n",
      "squid_S1186\n",
      "squid_S1166\n",
      "squid_S1214\n",
      "squid_S2447\n",
      "squid_S2333\n",
      "squid_S1068\n",
      "squid_S1197\n",
      "squid_S1132\n",
      "squid_S1125\n",
      "squid_S1213\n",
      "squid_S2259\n",
      "squid_S1155\n",
      "squid_S2153\n",
      "squid_S1149\n",
      "squid_S00115\n",
      "squid_S2325\n",
      "squid_S106\n",
      "squid_S00107\n",
      "squid_S00103\n",
      "squid_S1181\n",
      "squid_S00108\n",
      "squid_S00112\n",
      "squid_CommentedOutCodeLine\n",
      "squid_S00100\n",
      "squid_S00116\n",
      "squid_UselessImportCheck\n",
      "squid_S1602\n",
      "squid_ClassVariableVisibilityCheck\n",
      "squid_S1066\n",
      "squid_S1444\n",
      "squid_S1135\n",
      "squid_S2293\n",
      "squid_S1481\n",
      "squid_S2039\n",
      "squid_S2156\n",
      "squid_S1941\n",
      "squid_S00122\n",
      "squid_S2974\n",
      "squid_S1319\n",
      "squid_SwitchLastCaseIsDefaultCheck\n",
      "squid_S1118\n",
      "squid_S1845\n",
      "squid_S2386\n",
      "squid_MethodCyclomaticComplexity\n",
      "squid_S1168\n",
      "squid_S1215\n",
      "squid_S1948\n",
      "squid_S1943\n",
      "squid_S1905\n",
      "squid_S2142\n",
      "squid_S00119\n",
      "squid_S1312\n",
      "squid_MissingDeprecatedCheck\n",
      "squid_S2696\n",
      "squid_S1596\n",
      "squid_S00120\n",
      "squid_S2864\n",
      "squid_S2183\n",
      "squid_HiddenFieldCheck\n",
      "squid_S2147\n",
      "squid_S00117\n",
      "squid_S128\n",
      "squid_AssignmentInSubExpressionCheck\n",
      "squid_S2111\n",
      "squid_S1148\n",
      "squid_S1199\n",
      "squid_S2786\n",
      "squid_S1694\n",
      "squid_S1126\n",
      "squid_S3010\n",
      "squid_S2130\n",
      "squid_S1141\n",
      "squid_S2178\n",
      "squid_S2384\n",
      "squid_S2221\n",
      "squid_S1206\n",
      "squid_S1609\n",
      "squid_S1170\n",
      "squid_S3398\n",
      "squid_S1143\n",
      "squid_RedundantThrowsDeclarationCheck\n",
      "squid_S135\n",
      "squid_S1488\n",
      "squid_S1191\n",
      "squid_S1163\n",
      "squid_S3008\n",
      "squid_S00121\n",
      "squid_S1301\n",
      "squid_ForLoopCounterChangedCheck\n",
      "squid_S1067\n",
      "squid_UnusedPrivateMethod\n",
      "squid_S1611\n",
      "squid_S1604\n",
      "squid_S1659\n",
      "squid_S1872\n",
      "squid_S2131\n",
      "squid_S2162\n",
      "squid_S00118\n",
      "squid_S1172\n",
      "squid_S134\n",
      "squid_S1185\n",
      "squid_S1871\n",
      "squid_S2674\n",
      "squid_S1161\n",
      "squid_S1151\n",
      "squid_EmptyStatementUsageCheck\n",
      "squid_S1640\n",
      "squid_S2184\n",
      "squid_S1643\n",
      "squid_S1244\n",
      "squid_S3599\n",
      "squid_S1700\n",
      "squid_S00101\n",
      "squid_S3985\n",
      "squid_S2225\n",
      "squid_S1695\n",
      "squid_S2063\n",
      "squid_S1193\n",
      "squid_S1165\n",
      "squid_S881\n",
      "squid_S2272\n",
      "squid_S2444\n",
      "squid_S1612\n",
      "squid_S3400\n",
      "squid_S1610\n",
      "squid_S2112\n",
      "squid_S1075\n",
      "squid_S1764\n",
      "squid_S2676\n",
      "squid_S3358\n",
      "squid_S1699\n",
      "squid_S2057\n",
      "squid_S2160\n",
      "squid_S00114\n",
      "squid_S1171\n",
      "squid_S2209\n",
      "squid_S2065\n",
      "squid_S2885\n",
      "squid_S1157\n",
      "squid_S4201\n",
      "squid_S1210\n",
      "squid_S1698\n",
      "0 40 40\n",
      "squid_S2737\n",
      "squid_S2326\n",
      "squid_S2274\n",
      "squid_S1940\n",
      "squid_S2159\n",
      "squid_S1201\n",
      "squid_S2583\n",
      "squid_S2185\n",
      "squid_S2235\n",
      "squid_S2629\n",
      "squid_S3457\n",
      "squid_S1860\n",
      "squid_S3551\n",
      "squid_S2175\n",
      "squid_S2446\n",
      "squid_S3864\n"
     ]
    }
   ],
   "source": [
    "X_train = upsample_by_squid(X_train)"
   ]
  },
  {
   "cell_type": "code",
   "execution_count": 18,
   "id": "5dd4949d-24b8-4f41-8198-0cb44b55911c",
   "metadata": {
    "execution": {
     "iopub.execute_input": "2023-05-30T22:29:17.988946Z",
     "iopub.status.busy": "2023-05-30T22:29:17.988946Z",
     "iopub.status.idle": "2023-05-30T22:29:18.130951Z",
     "shell.execute_reply": "2023-05-30T22:29:18.130951Z",
     "shell.execute_reply.started": "2023-05-30T22:29:17.988946Z"
    }
   },
   "outputs": [],
   "source": [
    "features = ['vector_m2', 'vector_m1', 'vector_0', 'vector_1', 'vector_2'] + one_hot_encoded.columns.tolist()\n",
    "x_train = X_train[features]\n",
    "y_train = X_train['cls']\n",
    "x_test = X_test[features]\n",
    "y_test = X_test['cls']"
   ]
  },
  {
   "cell_type": "code",
   "execution_count": 132,
   "id": "43f0ea24-57af-479b-9857-aa1a31cc87d8",
   "metadata": {
    "execution": {
     "iopub.execute_input": "2023-05-31T00:31:44.220897Z",
     "iopub.status.busy": "2023-05-31T00:31:44.220897Z",
     "iopub.status.idle": "2023-05-31T00:31:44.231432Z",
     "shell.execute_reply": "2023-05-31T00:31:44.230508Z",
     "shell.execute_reply.started": "2023-05-31T00:31:44.220897Z"
    },
    "tags": []
   },
   "outputs": [],
   "source": [
    "def convert_dataframe_to_numpy(df):\n",
    "    n_rows = df.shape[0]\n",
    "    matrix = np.empty((0, 5 * 64))\n",
    "    rows = []\n",
    "    for i in range(n_rows):\n",
    "        if (i + 1) % 50000 == 0:\n",
    "            print(100 * i/(1.0 *n_rows))\n",
    "        single_line = []\n",
    "        for feature in ['m2', 'm1', '0', '1', '2']:\n",
    "            single_line += [ df.iloc[i]['vector_{}'.format(feature)][0].tolist() ]\n",
    "        rows += [ np.array(single_line).reshape(1, -1) ]\n",
    "    matrix = np.vstack(rows)\n",
    "    matrix = np.concatenate([matrix, df[one_hot_encoded.columns.tolist()].values], axis=1)\n",
    "    return matrix"
   ]
  },
  {
   "cell_type": "code",
   "execution_count": 133,
   "id": "6e61f521-f678-45a6-937e-d3d9f60f79fb",
   "metadata": {
    "execution": {
     "iopub.execute_input": "2023-05-31T00:31:46.027586Z",
     "iopub.status.busy": "2023-05-31T00:31:46.027586Z",
     "iopub.status.idle": "2023-05-31T00:37:53.575312Z",
     "shell.execute_reply": "2023-05-31T00:37:53.574294Z",
     "shell.execute_reply.started": "2023-05-31T00:31:46.027586Z"
    },
    "tags": []
   },
   "outputs": [
    {
     "name": "stdout",
     "output_type": "stream",
     "text": [
      "13.160194353637287\n",
      "26.32065191642583\n",
      "39.481109479214375\n",
      "52.64156704200292\n",
      "65.80202460479146\n",
      "78.96248216758\n",
      "92.12293973036854\n"
     ]
    }
   ],
   "source": [
    "x_train = convert_dataframe_to_numpy(x_train)"
   ]
  },
  {
   "cell_type": "code",
   "execution_count": 134,
   "id": "45026ff0-0183-45db-bc99-5b3f2a303068",
   "metadata": {
    "execution": {
     "iopub.execute_input": "2023-05-31T00:37:53.577242Z",
     "iopub.status.busy": "2023-05-31T00:37:53.577242Z",
     "iopub.status.idle": "2023-05-31T00:38:05.175239Z",
     "shell.execute_reply": "2023-05-31T00:38:05.174249Z",
     "shell.execute_reply.started": "2023-05-31T00:37:53.577242Z"
    },
    "tags": []
   },
   "outputs": [],
   "source": [
    "x_test = convert_dataframe_to_numpy(x_test)"
   ]
  },
  {
   "cell_type": "code",
   "execution_count": 144,
   "id": "69ab92d7-d11e-4a6d-9ae2-a733cbccb921",
   "metadata": {
    "execution": {
     "iopub.execute_input": "2023-05-31T02:22:34.440695Z",
     "iopub.status.busy": "2023-05-31T02:22:34.439695Z",
     "iopub.status.idle": "2023-05-31T02:22:34.461689Z",
     "shell.execute_reply": "2023-05-31T02:22:34.460690Z",
     "shell.execute_reply.started": "2023-05-31T02:22:34.440695Z"
    },
    "tags": []
   },
   "outputs": [
    {
     "data": {
      "text/plain": [
       "cls\n",
       "1    17756\n",
       "0     4693\n",
       "Name: count, dtype: int64"
      ]
     },
     "execution_count": 144,
     "metadata": {},
     "output_type": "execute_result"
    }
   ],
   "source": [
    "y_test.value_counts()"
   ]
  },
  {
   "cell_type": "code",
   "execution_count": 36,
   "id": "ea6b786b-30e1-44e9-8dda-b474e1b93f7d",
   "metadata": {
    "execution": {
     "iopub.execute_input": "2023-05-30T23:10:57.903186Z",
     "iopub.status.busy": "2023-05-30T23:10:57.903186Z",
     "iopub.status.idle": "2023-05-30T23:10:57.927690Z",
     "shell.execute_reply": "2023-05-30T23:10:57.925453Z",
     "shell.execute_reply.started": "2023-05-30T23:10:57.903186Z"
    },
    "tags": []
   },
   "outputs": [],
   "source": [
    "# Final step, model trained with the best parameters"
   ]
  },
  {
   "cell_type": "code",
   "execution_count": 7,
   "id": "016dca36-db72-4f3d-9fc5-ccc5104b7f6a",
   "metadata": {
    "execution": {
     "iopub.execute_input": "2023-05-27T23:54:28.024565Z",
     "iopub.status.busy": "2023-05-27T23:54:28.024565Z",
     "iopub.status.idle": "2023-05-27T23:54:31.615801Z",
     "shell.execute_reply": "2023-05-27T23:54:31.615272Z",
     "shell.execute_reply.started": "2023-05-27T23:54:28.024565Z"
    },
    "tags": []
   },
   "outputs": [],
   "source": [
    "x_train = pd.read_csv('input/x_train.csv', header=None)\n",
    "y_train = pd.read_csv('input/y_train.csv', header=None)\n",
    "\n",
    "x_test = pd.read_csv('input/x_test.csv', header=None)\n",
    "y_test = pd.read_csv('input/y_test.csv', header=None)"
   ]
  },
  {
   "cell_type": "code",
   "execution_count": 139,
   "id": "3adbb3dd-7730-4f17-96c0-b96d66f4d6b9",
   "metadata": {
    "execution": {
     "iopub.execute_input": "2023-05-31T01:23:52.173042Z",
     "iopub.status.busy": "2023-05-31T01:23:52.173042Z",
     "iopub.status.idle": "2023-05-31T02:18:35.477117Z",
     "shell.execute_reply": "2023-05-31T02:18:35.475130Z",
     "shell.execute_reply.started": "2023-05-31T01:23:52.173042Z"
    },
    "tags": []
   },
   "outputs": [
    {
     "name": "stderr",
     "output_type": "stream",
     "text": [
      "[Parallel(n_jobs=4)]: Using backend ThreadingBackend with 4 concurrent workers.\n"
     ]
    },
    {
     "name": "stdout",
     "output_type": "stream",
     "text": [
      "building tree 1 of 250building tree 2 of 250\n",
      "building tree 3 of 250\n",
      "\n",
      "building tree 4 of 250\n",
      "building tree 5 of 250\n",
      "building tree 6 of 250\n",
      "building tree 7 of 250\n",
      "building tree 8 of 250\n",
      "building tree 9 of 250\n",
      "building tree 10 of 250\n",
      "building tree 11 of 250\n",
      "building tree 12 of 250\n",
      "building tree 13 of 250\n",
      "building tree 14 of 250\n",
      "building tree 15 of 250\n",
      "building tree 16 of 250\n",
      "building tree 17 of 250\n",
      "building tree 18 of 250\n",
      "building tree 19 of 250\n",
      "building tree 20 of 250\n",
      "building tree 21 of 250\n",
      "building tree 22 of 250\n",
      "building tree 23 of 250\n",
      "building tree 24 of 250\n",
      "building tree 25 of 250\n",
      "building tree 26 of 250\n",
      "building tree 27 of 250\n",
      "building tree 28 of 250\n"
     ]
    },
    {
     "name": "stderr",
     "output_type": "stream",
     "text": [
      "[Parallel(n_jobs=4)]: Done  24 tasks      | elapsed:  4.7min\n"
     ]
    },
    {
     "name": "stdout",
     "output_type": "stream",
     "text": [
      "building tree 29 of 250\n",
      "building tree 30 of 250\n",
      "building tree 31 of 250\n",
      "building tree 32 of 250\n",
      "building tree 33 of 250\n",
      "building tree 34 of 250\n",
      "building tree 35 of 250\n",
      "building tree 36 of 250\n",
      "building tree 37 of 250\n",
      "building tree 38 of 250\n",
      "building tree 39 of 250\n",
      "building tree 40 of 250\n",
      "building tree 41 of 250\n",
      "building tree 42 of 250\n",
      "building tree 43 of 250\n",
      "building tree 44 of 250\n",
      "building tree 45 of 250\n",
      "building tree 46 of 250\n",
      "building tree 47 of 250\n",
      "building tree 48 of 250\n",
      "building tree 49 of 250\n",
      "building tree 50 of 250\n",
      "building tree 51 of 250\n",
      "building tree 52 of 250\n",
      "building tree 53 of 250\n",
      "building tree 54 of 250\n",
      "building tree 55 of 250\n",
      "building tree 56 of 250\n",
      "building tree 57 of 250\n",
      "building tree 58 of 250\n",
      "building tree 59 of 250\n",
      "building tree 60 of 250\n",
      "building tree 61 of 250\n",
      "building tree 62 of 250\n",
      "building tree 63 of 250\n",
      "building tree 64 of 250\n",
      "building tree 65 of 250\n",
      "building tree 66 of 250\n",
      "building tree 67 of 250\n",
      "building tree 68 of 250\n",
      "building tree 69 of 250\n",
      "building tree 70 of 250\n",
      "building tree 71 of 250\n",
      "building tree 72 of 250\n",
      "building tree 73 of 250\n",
      "building tree 74 of 250\n",
      "building tree 75 of 250\n",
      "building tree 76 of 250\n",
      "building tree 77 of 250\n",
      "building tree 78 of 250\n",
      "building tree 79 of 250\n",
      "building tree 80 of 250\n",
      "building tree 81 of 250\n",
      "building tree 82 of 250\n",
      "building tree 83 of 250\n",
      "building tree 84 of 250\n",
      "building tree 85 of 250\n",
      "building tree 86 of 250\n",
      "building tree 87 of 250\n",
      "building tree 88 of 250\n",
      "building tree 89 of 250\n",
      "building tree 90 of 250\n",
      "building tree 91 of 250\n",
      "building tree 92 of 250\n",
      "building tree 93 of 250\n",
      "building tree 94 of 250\n",
      "building tree 95 of 250\n",
      "building tree 96 of 250\n",
      "building tree 97 of 250\n",
      "building tree 98 of 250\n",
      "building tree 99 of 250\n",
      "building tree 100 of 250\n",
      "building tree 101 of 250\n",
      "building tree 102 of 250\n",
      "building tree 103 of 250\n",
      "building tree 104 of 250\n",
      "building tree 105 of 250\n",
      "building tree 106 of 250\n",
      "building tree 107 of 250\n",
      "building tree 108 of 250\n",
      "building tree 109 of 250\n",
      "building tree 110 of 250\n",
      "building tree 111 of 250\n",
      "building tree 112 of 250\n",
      "building tree 113 of 250\n",
      "building tree 114 of 250\n",
      "building tree 115 of 250\n",
      "building tree 116 of 250\n",
      "building tree 117 of 250\n",
      "building tree 118 of 250\n",
      "building tree 119 of 250\n",
      "building tree 120 of 250\n",
      "building tree 121 of 250\n",
      "building tree 122 of 250\n",
      "building tree 123 of 250\n",
      "building tree 124 of 250\n"
     ]
    },
    {
     "name": "stderr",
     "output_type": "stream",
     "text": [
      "[Parallel(n_jobs=4)]: Done 120 tasks      | elapsed: 25.2min\n"
     ]
    },
    {
     "name": "stdout",
     "output_type": "stream",
     "text": [
      "building tree 125 of 250\n",
      "building tree 126 of 250\n",
      "building tree 127 of 250\n",
      "building tree 128 of 250\n",
      "building tree 129 of 250\n",
      "building tree 130 of 250\n",
      "building tree 131 of 250\n",
      "building tree 132 of 250\n",
      "building tree 133 of 250\n",
      "building tree 134 of 250\n",
      "building tree 135 of 250\n",
      "building tree 136 of 250\n",
      "building tree 137 of 250\n",
      "building tree 138 of 250\n",
      "building tree 139 of 250\n",
      "building tree 140 of 250\n",
      "building tree 141 of 250\n",
      "building tree 142 of 250\n",
      "building tree 143 of 250\n",
      "building tree 144 of 250\n",
      "building tree 145 of 250\n",
      "building tree 146 of 250\n",
      "building tree 147 of 250\n",
      "building tree 148 of 250\n",
      "building tree 149 of 250\n",
      "building tree 150 of 250\n",
      "building tree 151 of 250\n",
      "building tree 152 of 250\n",
      "building tree 153 of 250\n",
      "building tree 154 of 250\n",
      "building tree 155 of 250\n",
      "building tree 156 of 250\n",
      "building tree 157 of 250\n",
      "building tree 158 of 250\n",
      "building tree 159 of 250\n",
      "building tree 160 of 250\n",
      "building tree 161 of 250\n",
      "building tree 162 of 250\n",
      "building tree 163 of 250\n",
      "building tree 164 of 250\n",
      "building tree 165 of 250\n",
      "building tree 166 of 250\n",
      "building tree 167 of 250\n",
      "building tree 168 of 250\n",
      "building tree 169 of 250\n",
      "building tree 170 of 250\n",
      "building tree 171 of 250\n",
      "building tree 172 of 250\n",
      "building tree 173 of 250\n",
      "building tree 174 of 250\n",
      "building tree 175 of 250\n",
      "building tree 176 of 250\n",
      "building tree 177 of 250\n",
      "building tree 178 of 250\n",
      "building tree 179 of 250\n",
      "building tree 180 of 250\n",
      "building tree 181 of 250\n",
      "building tree 182 of 250\n",
      "building tree 183 of 250\n",
      "building tree 184 of 250\n",
      "building tree 185 of 250\n",
      "building tree 186 of 250\n",
      "building tree 187 of 250\n",
      "building tree 188 of 250\n",
      "building tree 189 of 250\n",
      "building tree 190 of 250\n",
      "building tree 191 of 250\n",
      "building tree 192 of 250\n",
      "building tree 193 of 250\n",
      "building tree 194 of 250\n",
      "building tree 195 of 250\n",
      "building tree 196 of 250\n",
      "building tree 197 of 250\n",
      "building tree 198 of 250\n",
      "building tree 199 of 250\n",
      "building tree 200 of 250\n",
      "building tree 201 of 250\n",
      "building tree 202 of 250\n",
      "building tree 203 of 250\n",
      "building tree 204 of 250\n",
      "building tree 205 of 250\n",
      "building tree 206 of 250\n",
      "building tree 207 of 250\n",
      "building tree 208 of 250\n",
      "building tree 209 of 250\n",
      "building tree 210 of 250\n",
      "building tree 211 of 250\n",
      "building tree 212 of 250\n",
      "building tree 213 of 250\n",
      "building tree 214 of 250\n",
      "building tree 215 of 250\n",
      "building tree 216 of 250\n",
      "building tree 217 of 250\n",
      "building tree 218 of 250\n",
      "building tree 219 of 250\n",
      "building tree 220 of 250\n",
      "building tree 221 of 250\n",
      "building tree 222 of 250\n",
      "building tree 223 of 250\n",
      "building tree 224 of 250\n",
      "building tree 225 of 250\n",
      "building tree 226 of 250\n",
      "building tree 227 of 250\n",
      "building tree 228 of 250\n",
      "building tree 229 of 250\n",
      "building tree 230 of 250\n",
      "building tree 231 of 250\n",
      "building tree 232 of 250\n",
      "building tree 233 of 250\n",
      "building tree 234 of 250\n",
      "building tree 235 of 250\n",
      "building tree 236 of 250\n",
      "building tree 237 of 250\n",
      "building tree 238 of 250\n",
      "building tree 239 of 250\n",
      "building tree 240 of 250\n",
      "building tree 241 of 250\n",
      "building tree 242 of 250\n",
      "building tree 243 of 250\n",
      "building tree 244 of 250\n",
      "building tree 245 of 250\n",
      "building tree 246 of 250\n",
      "building tree 247 of 250\n",
      "building tree 248 of 250\n",
      "building tree 249 of 250\n",
      "building tree 250 of 250\n"
     ]
    },
    {
     "name": "stderr",
     "output_type": "stream",
     "text": [
      "[Parallel(n_jobs=4)]: Done 250 out of 250 | elapsed: 54.7min finished\n"
     ]
    },
    {
     "data": {
      "text/html": [
       "<style>#sk-container-id-1 {color: black;background-color: white;}#sk-container-id-1 pre{padding: 0;}#sk-container-id-1 div.sk-toggleable {background-color: white;}#sk-container-id-1 label.sk-toggleable__label {cursor: pointer;display: block;width: 100%;margin-bottom: 0;padding: 0.3em;box-sizing: border-box;text-align: center;}#sk-container-id-1 label.sk-toggleable__label-arrow:before {content: \"▸\";float: left;margin-right: 0.25em;color: #696969;}#sk-container-id-1 label.sk-toggleable__label-arrow:hover:before {color: black;}#sk-container-id-1 div.sk-estimator:hover label.sk-toggleable__label-arrow:before {color: black;}#sk-container-id-1 div.sk-toggleable__content {max-height: 0;max-width: 0;overflow: hidden;text-align: left;background-color: #f0f8ff;}#sk-container-id-1 div.sk-toggleable__content pre {margin: 0.2em;color: black;border-radius: 0.25em;background-color: #f0f8ff;}#sk-container-id-1 input.sk-toggleable__control:checked~div.sk-toggleable__content {max-height: 200px;max-width: 100%;overflow: auto;}#sk-container-id-1 input.sk-toggleable__control:checked~label.sk-toggleable__label-arrow:before {content: \"▾\";}#sk-container-id-1 div.sk-estimator input.sk-toggleable__control:checked~label.sk-toggleable__label {background-color: #d4ebff;}#sk-container-id-1 div.sk-label input.sk-toggleable__control:checked~label.sk-toggleable__label {background-color: #d4ebff;}#sk-container-id-1 input.sk-hidden--visually {border: 0;clip: rect(1px 1px 1px 1px);clip: rect(1px, 1px, 1px, 1px);height: 1px;margin: -1px;overflow: hidden;padding: 0;position: absolute;width: 1px;}#sk-container-id-1 div.sk-estimator {font-family: monospace;background-color: #f0f8ff;border: 1px dotted black;border-radius: 0.25em;box-sizing: border-box;margin-bottom: 0.5em;}#sk-container-id-1 div.sk-estimator:hover {background-color: #d4ebff;}#sk-container-id-1 div.sk-parallel-item::after {content: \"\";width: 100%;border-bottom: 1px solid gray;flex-grow: 1;}#sk-container-id-1 div.sk-label:hover label.sk-toggleable__label {background-color: #d4ebff;}#sk-container-id-1 div.sk-serial::before {content: \"\";position: absolute;border-left: 1px solid gray;box-sizing: border-box;top: 0;bottom: 0;left: 50%;z-index: 0;}#sk-container-id-1 div.sk-serial {display: flex;flex-direction: column;align-items: center;background-color: white;padding-right: 0.2em;padding-left: 0.2em;position: relative;}#sk-container-id-1 div.sk-item {position: relative;z-index: 1;}#sk-container-id-1 div.sk-parallel {display: flex;align-items: stretch;justify-content: center;background-color: white;position: relative;}#sk-container-id-1 div.sk-item::before, #sk-container-id-1 div.sk-parallel-item::before {content: \"\";position: absolute;border-left: 1px solid gray;box-sizing: border-box;top: 0;bottom: 0;left: 50%;z-index: -1;}#sk-container-id-1 div.sk-parallel-item {display: flex;flex-direction: column;z-index: 1;position: relative;background-color: white;}#sk-container-id-1 div.sk-parallel-item:first-child::after {align-self: flex-end;width: 50%;}#sk-container-id-1 div.sk-parallel-item:last-child::after {align-self: flex-start;width: 50%;}#sk-container-id-1 div.sk-parallel-item:only-child::after {width: 0;}#sk-container-id-1 div.sk-dashed-wrapped {border: 1px dashed gray;margin: 0 0.4em 0.5em 0.4em;box-sizing: border-box;padding-bottom: 0.4em;background-color: white;}#sk-container-id-1 div.sk-label label {font-family: monospace;font-weight: bold;display: inline-block;line-height: 1.2em;}#sk-container-id-1 div.sk-label-container {text-align: center;}#sk-container-id-1 div.sk-container {/* jupyter's `normalize.less` sets `[hidden] { display: none; }` but bootstrap.min.css set `[hidden] { display: none !important; }` so we also need the `!important` here to be able to override the default hidden behavior on the sphinx rendered scikit-learn.org. See: https://github.com/scikit-learn/scikit-learn/issues/21755 */display: inline-block !important;position: relative;}#sk-container-id-1 div.sk-text-repr-fallback {display: none;}</style><div id=\"sk-container-id-1\" class=\"sk-top-container\"><div class=\"sk-text-repr-fallback\"><pre>RandomForestClassifier(criterion=&#x27;entropy&#x27;, max_depth=100, max_features=480,\n",
       "                       min_samples_split=10, n_estimators=250, n_jobs=4,\n",
       "                       verbose=3)</pre><b>In a Jupyter environment, please rerun this cell to show the HTML representation or trust the notebook. <br />On GitHub, the HTML representation is unable to render, please try loading this page with nbviewer.org.</b></div><div class=\"sk-container\" hidden><div class=\"sk-item\"><div class=\"sk-estimator sk-toggleable\"><input class=\"sk-toggleable__control sk-hidden--visually\" id=\"sk-estimator-id-1\" type=\"checkbox\" checked><label for=\"sk-estimator-id-1\" class=\"sk-toggleable__label sk-toggleable__label-arrow\">RandomForestClassifier</label><div class=\"sk-toggleable__content\"><pre>RandomForestClassifier(criterion=&#x27;entropy&#x27;, max_depth=100, max_features=480,\n",
       "                       min_samples_split=10, n_estimators=250, n_jobs=4,\n",
       "                       verbose=3)</pre></div></div></div></div></div>"
      ],
      "text/plain": [
       "RandomForestClassifier(criterion='entropy', max_depth=100, max_features=480,\n",
       "                       min_samples_split=10, n_estimators=250, n_jobs=4,\n",
       "                       verbose=3)"
      ]
     },
     "execution_count": 139,
     "metadata": {},
     "output_type": "execute_result"
    }
   ],
   "source": [
    "clf = RandomForestClassifier(criterion='entropy', max_depth=100, max_features=480, min_samples_leaf=1, min_samples_split=10, n_estimators=250, verbose=3,n_jobs=4)\n",
    "clf.fit(x_train, y_train)"
   ]
  },
  {
   "cell_type": "code",
   "execution_count": 140,
   "id": "4bac745a-123d-4a67-bb62-4b86c917f4a6",
   "metadata": {
    "execution": {
     "iopub.execute_input": "2023-05-31T02:18:35.479122Z",
     "iopub.status.busy": "2023-05-31T02:18:35.479122Z",
     "iopub.status.idle": "2023-05-31T02:18:35.937278Z",
     "shell.execute_reply": "2023-05-31T02:18:35.936283Z",
     "shell.execute_reply.started": "2023-05-31T02:18:35.479122Z"
    },
    "tags": []
   },
   "outputs": [
    {
     "name": "stderr",
     "output_type": "stream",
     "text": [
      "[Parallel(n_jobs=4)]: Using backend ThreadingBackend with 4 concurrent workers.\n",
      "[Parallel(n_jobs=4)]: Done  24 tasks      | elapsed:    0.0s\n",
      "[Parallel(n_jobs=4)]: Done 120 tasks      | elapsed:    0.1s\n",
      "[Parallel(n_jobs=4)]: Done 250 out of 250 | elapsed:    0.3s finished\n"
     ]
    },
    {
     "data": {
      "text/plain": [
       "array([[ 4624,    69],\n",
       "       [  197, 17559]], dtype=int64)"
      ]
     },
     "execution_count": 140,
     "metadata": {},
     "output_type": "execute_result"
    }
   ],
   "source": [
    "\n",
    "y_pred = clf.predict(x_test)\n",
    "cm = confusion_matrix(y_test,y_pred)\n",
    "cm"
   ]
  },
  {
   "cell_type": "code",
   "execution_count": 13,
   "id": "518d2b7b-163b-4b2f-a481-bfe1d0fcb8c9",
   "metadata": {
    "execution": {
     "iopub.execute_input": "2023-05-28T00:38:22.597648Z",
     "iopub.status.busy": "2023-05-28T00:38:22.596646Z",
     "iopub.status.idle": "2023-05-28T00:38:23.564545Z",
     "shell.execute_reply": "2023-05-28T00:38:23.563510Z",
     "shell.execute_reply.started": "2023-05-28T00:38:22.597648Z"
    },
    "tags": []
   },
   "outputs": [
    {
     "name": "stderr",
     "output_type": "stream",
     "text": [
      "C:\\Python310\\lib\\site-packages\\sklearn\\utils\\deprecation.py:87: FutureWarning: Function plot_confusion_matrix is deprecated; Function `plot_confusion_matrix` is deprecated in 1.0 and will be removed in 1.2. Use one of the class methods: ConfusionMatrixDisplay.from_predictions or ConfusionMatrixDisplay.from_estimator.\n",
      "  warnings.warn(msg, category=FutureWarning)\n"
     ]
    },
    {
     "data": {
      "image/png": "[encoded data removed]",
      "text/plain": [
       "<Figure size 640x480 with 2 Axes>"
      ]
     },
     "metadata": {},
     "output_type": "display_data"
    }
   ],
   "source": [
    "# aqui ainda não funciona\n",
    "color = 'white'\n",
    "matrix = plot_confusion_matrix(clf, x_test, y_test, cmap=plt.cm.Blues)\n",
    "matrix.ax_.set_title('Confusion Matrix', color=color)\n",
    "plt.xlabel('Predicted Label', color=color)\n",
    "plt.ylabel('True Label', color=color)\n",
    "plt.gcf().axes[0].tick_params(colors=color)\n",
    "plt.gcf().axes[1].tick_params(colors=color)\n",
    "plt.show()"
   ]
  },
  {
   "cell_type": "code",
   "execution_count": 141,
   "id": "dfe8b41e-1d2d-4b48-9c1e-35381e02cbe1",
   "metadata": {
    "execution": {
     "iopub.execute_input": "2023-05-31T02:21:02.359583Z",
     "iopub.status.busy": "2023-05-31T02:21:02.358583Z",
     "iopub.status.idle": "2023-05-31T02:21:02.411578Z",
     "shell.execute_reply": "2023-05-31T02:21:02.410583Z",
     "shell.execute_reply.started": "2023-05-31T02:21:02.359583Z"
    },
    "tags": []
   },
   "outputs": [
    {
     "name": "stdout",
     "output_type": "stream",
     "text": [
      "              precision    recall  f1-score   support\n",
      "\n",
      "           0       0.96      0.99      0.97      4693\n",
      "           1       1.00      0.99      0.99     17756\n",
      "\n",
      "    accuracy                           0.99     22449\n",
      "   macro avg       0.98      0.99      0.98     22449\n",
      "weighted avg       0.99      0.99      0.99     22449\n",
      "\n"
     ]
    }
   ],
   "source": [
    "print(classification_report(y_test, y_pred))"
   ]
  },
  {
   "cell_type": "code",
   "execution_count": null,
   "id": "bd577cb6-8706-49e3-a1ef-49fb18b125d1",
   "metadata": {},
   "outputs": [],
   "source": []
  }
 ],
 "metadata": {
  "kernelspec": {
   "display_name": "Python 3 (ipykernel)",
   "language": "python",
   "name": "python3"
  },
  "language_info": {
   "codemirror_mode": {
    "name": "ipython",
    "version": 3
   },
   "file_extension": ".py",
   "mimetype": "text/x-python",
   "name": "python",
   "nbconvert_exporter": "python",
   "pygments_lexer": "ipython3",
   "version": "3.8.16"
  }
 },
 "nbformat": 4,
 "nbformat_minor": 5
}
